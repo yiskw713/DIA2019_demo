{
 "cells": [
  {
   "cell_type": "markdown",
   "metadata": {},
   "source": [
    "### アルファブレンド"
   ]
  },
  {
   "cell_type": "code",
   "execution_count": 2,
   "metadata": {},
   "outputs": [],
   "source": [
    "import numpy as np\n",
    "import cv2"
   ]
  },
  {
   "cell_type": "code",
   "execution_count": 9,
   "metadata": {},
   "outputs": [],
   "source": [
    "root = './images/'"
   ]
  },
  {
   "cell_type": "code",
   "execution_count": 10,
   "metadata": {},
   "outputs": [],
   "source": [
    "obj = ['hammer', 'ladle', 'scissors']"
   ]
  },
  {
   "cell_type": "code",
   "execution_count": 12,
   "metadata": {},
   "outputs": [],
   "source": [
    "for o in obj:\n",
    "    for i in range(3):\n",
    "        orig = cv2.imread(root + o + str(i) + '.jpg')\n",
    "        for j in range(5):\n",
    "            label = cv2.imread(root + o + str(i) + '_' + str(j) + '.jpg')\n",
    "            result = cv2.addWeighted(orig, 0.8, label, 0.2, 0)\n",
    "            cv2.imwrite('result.jpg', result)\n",
    "            break\n",
    "        break\n",
    "    break"
   ]
  },
  {
   "cell_type": "code",
   "execution_count": 41,
   "metadata": {},
   "outputs": [],
   "source": [
    "orig_hm = cv2.imread('./result_3obj_2/slide/orig_image0.jpg')\n",
    "orig_la = cv2.imread('./result_3obj_2/slide/orig_image1.jpg')\n",
    "orig_sc = cv2.imread('./result_3obj_2/slide/orig_image2.jpg')\n",
    "label_hm = cv2.imread('./result_3obj_2/slide/true_masks_task0.jpg')\n",
    "label_la = cv2.imread('./result_3obj_2/slide/true_masks_task1.jpg')\n",
    "label_sc = cv2.imread('./result_3obj_2/slide/true_masks_task2.jpg')"
   ]
  },
  {
   "cell_type": "code",
   "execution_count": 42,
   "metadata": {},
   "outputs": [
    {
     "data": {
      "text/plain": [
       "True"
      ]
     },
     "execution_count": 42,
     "metadata": {},
     "output_type": "execute_result"
    }
   ],
   "source": [
    "a = cv2.addWeighted(orig_hm, 0.4, label_hm, 0.6, 0)\n",
    "b = cv2.addWeighted(orig_la, 0.4, label_la, 0.6, 0)\n",
    "c = cv2.addWeighted(orig_sc, 0.4, label_sc, 0.6, 0)\n",
    "cv2.imwrite('./result_3obj_2/slide/hm.png', a)\n",
    "cv2.imwrite('./result_3obj_2/slide/la.png', b)\n",
    "cv2.imwrite('./result_3obj_2/slide/sc.png', c)"
   ]
  }
 ],
 "metadata": {
  "kernelspec": {
   "display_name": "Python 3",
   "language": "python",
   "name": "python3"
  },
  "language_info": {
   "codemirror_mode": {
    "name": "ipython",
    "version": 3
   },
   "file_extension": ".py",
   "mimetype": "text/x-python",
   "name": "python",
   "nbconvert_exporter": "python",
   "pygments_lexer": "ipython3",
   "version": "3.6.5"
  }
 },
 "nbformat": 4,
 "nbformat_minor": 2
}
